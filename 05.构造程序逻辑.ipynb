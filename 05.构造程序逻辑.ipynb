{
 "cells": [
  {
   "cell_type": "code",
   "execution_count": 21,
   "outputs": [
    {
     "name": "stdout",
     "output_type": "stream",
     "text": [
      "153\n",
      "370\n",
      "371\n",
      "407\n"
     ]
    }
   ],
   "source": [
    "# 寻找水仙花数\n",
    "# way 1\n",
    "for i in range(1,10):\n",
    "    for j in range(0,10):\n",
    "        for k in range(0,10):\n",
    "            if pow(i,3)+pow(j,3)+pow(k,3) == i*100+j*10+k:\n",
    "                print(i*100+j*10+k)"
   ],
   "metadata": {
    "collapsed": false,
    "pycharm": {
     "name": "#%%\n"
    }
   }
  },
  {
   "cell_type": "code",
   "execution_count": 19,
   "outputs": [
    {
     "name": "stdout",
     "output_type": "stream",
     "text": [
      "153\n",
      "370\n",
      "371\n",
      "407\n"
     ]
    }
   ],
   "source": [
    "# 寻找水仙花数\n",
    "# way 2\n",
    "for i in range(100,1000):\n",
    "    a = i//100\n",
    "    b = (i-a*100)//10\n",
    "    c = (i-a*100-b*10)\n",
    "    if pow(a,3)+pow(b,3)+pow(c,3)==i:\n",
    "        print(i)"
   ],
   "metadata": {
    "collapsed": false,
    "pycharm": {
     "name": "#%%\n"
    }
   }
  },
  {
   "cell_type": "code",
   "execution_count": 22,
   "outputs": [
    {
     "name": "stdout",
     "output_type": "stream",
     "text": [
      "153\n",
      "370\n",
      "371\n",
      "407\n"
     ]
    }
   ],
   "source": [
    "# 寻找水仙花数\n",
    "# way 3\n",
    "for num in range(100, 1000):\n",
    "    low = num % 10\n",
    "    mid = num // 10 % 10\n",
    "    high = num // 100\n",
    "    if num == low ** 3 + mid ** 3 + high ** 3:\n",
    "        print(num)"
   ],
   "metadata": {
    "collapsed": false,
    "pycharm": {
     "name": "#%%\n"
    }
   }
  },
  {
   "cell_type": "code",
   "execution_count": 24,
   "outputs": [
    {
     "name": "stdout",
     "output_type": "stream",
     "text": [
      "64\n",
      "64\n",
      "1\n",
      "2\n"
     ]
    }
   ],
   "source": [
    "# 求指数\n",
    "print(pow(4,3))\n",
    "print(4**3)\n",
    "# 求余数\n",
    "print(9%4)\n",
    "# 求整除\n",
    "print(9//4)"
   ],
   "metadata": {
    "collapsed": false,
    "pycharm": {
     "name": "#%%\n"
    }
   }
  },
  {
   "cell_type": "code",
   "execution_count": 32,
   "outputs": [
    {
     "name": "stdout",
     "output_type": "stream",
     "text": [
      "54321\n"
     ]
    }
   ],
   "source": [
    "# 正整数的反转\n",
    "a = 12345\n",
    "b1 = a//1e4\n",
    "b2 = (a-b1*1e4)//1e3\n",
    "b3 = (a-b1*1e4-b2*1e3)//1e2\n",
    "b4 = (a-b1*1e4-b2*1e3-b3*1e2)//10\n",
    "b5 = a%10\n",
    "b = b1+b2*10+b3*100+b4*1e3+b5*1e4\n",
    "print(int(b))"
   ],
   "metadata": {
    "collapsed": false,
    "pycharm": {
     "name": "#%%\n"
    }
   }
  },
  {
   "cell_type": "code",
   "execution_count": 44,
   "outputs": [
    {
     "name": "stdout",
     "output_type": "stream",
     "text": [
      "54321\n"
     ]
    }
   ],
   "source": [
    "# 正整数的反转\n",
    "num = 12345\n",
    "reversed_num = 0\n",
    "while num > 0:\n",
    "    reversed_num = reversed_num*10 + num%10\n",
    "    num //= 10\n",
    "print(reversed_num)"
   ],
   "metadata": {
    "collapsed": false,
    "pycharm": {
     "name": "#%%\n"
    }
   }
  },
  {
   "cell_type": "code",
   "execution_count": 45,
   "outputs": [
    {
     "name": "stdout",
     "output_type": "stream",
     "text": [
      "421\n"
     ]
    }
   ],
   "source": [
    "# 正整数的反转\n",
    "num = int(input('num = '))\n",
    "reversed_num = 0\n",
    "while num > 0:\n",
    "    reversed_num = reversed_num * 10 + num % 10\n",
    "    num //= 10\n",
    "print(reversed_num)"
   ],
   "metadata": {
    "collapsed": false,
    "pycharm": {
     "name": "#%%\n"
    }
   }
  },
  {
   "cell_type": "code",
   "execution_count": 55,
   "outputs": [
    {
     "name": "stdout",
     "output_type": "stream",
     "text": [
      "i=0,j=25,k=75\n",
      "i=4,j=18,k=78\n",
      "i=8,j=11,k=81\n",
      "i=12,j=4,k=84\n"
     ]
    }
   ],
   "source": [
    "# 《百钱百鸡》问题\n",
    "for i in range(0,34):\n",
    "    for j in range(0,51):\n",
    "        if 5*i+j*3+(100-i-j)/3 == 100:\n",
    "            print('i=%d,j=%d,k=%d' % (i,j,100-i-j))"
   ],
   "metadata": {
    "collapsed": false,
    "pycharm": {
     "name": "#%%\n"
    }
   }
  },
  {
   "cell_type": "code",
   "execution_count": 56,
   "outputs": [
    {
     "name": "stdout",
     "output_type": "stream",
     "text": [
      "公鸡: 0只, 母鸡: 25只, 小鸡: 75只\n",
      "公鸡: 4只, 母鸡: 18只, 小鸡: 78只\n",
      "公鸡: 8只, 母鸡: 11只, 小鸡: 81只\n",
      "公鸡: 12只, 母鸡: 4只, 小鸡: 84只\n"
     ]
    }
   ],
   "source": [
    "\"\"\"\n",
    "《百钱百鸡》问题\n",
    "\n",
    "Version: 0.1\n",
    "Author: 骆昊\n",
    "\"\"\"\n",
    "\n",
    "for x in range(0, 20):\n",
    "    for y in range(0, 33):\n",
    "        z = 100 - x - y\n",
    "        if 5 * x + 3 * y + z / 3 == 100:\n",
    "            print('公鸡: %d只, 母鸡: %d只, 小鸡: %d只' % (x, y, z))"
   ],
   "metadata": {
    "collapsed": false,
    "pycharm": {
     "name": "#%%\n"
    }
   }
  },
  {
   "cell_type": "code",
   "execution_count": 58,
   "outputs": [
    {
     "name": "stdout",
     "output_type": "stream",
     "text": [
      "你的总资产为: 1000\n",
      "玩家摇出了3点\n",
      "庄家胜!\n",
      "你破产了, 游戏结束!\n"
     ]
    }
   ],
   "source": [
    "\"\"\"\n",
    "Craps赌博游戏\n",
    "我们设定玩家开始游戏时有1000元的赌注\n",
    "游戏结束的条件是玩家输光所有的赌注\n",
    "\n",
    "Version: 0.1\n",
    "Author: 骆昊\n",
    "\"\"\"\n",
    "from random import randint\n",
    "\n",
    "money = 1000\n",
    "while money > 0:\n",
    "    print('你的总资产为:', money)\n",
    "    needs_go_on = False\n",
    "    while True:\n",
    "        debt = int(input('请下注: '))\n",
    "        if 0 < debt <= money:\n",
    "            break\n",
    "    first = randint(1, 6) + randint(1, 6)\n",
    "    print('玩家摇出了%d点' % first)\n",
    "    if first == 7 or first == 11:\n",
    "        print('玩家胜!')\n",
    "        money += debt\n",
    "    elif first == 2 or first == 3 or first == 12:\n",
    "        print('庄家胜!')\n",
    "        money -= debt\n",
    "    else:\n",
    "        needs_go_on = True\n",
    "    while needs_go_on:\n",
    "        needs_go_on = False\n",
    "        current = randint(1, 6) + randint(1, 6)\n",
    "        print('玩家摇出了%d点' % current)\n",
    "        if current == 7:\n",
    "            print('庄家胜')\n",
    "            money -= debt\n",
    "        elif current == first:\n",
    "            print('玩家胜')\n",
    "            money += debt\n",
    "        else:\n",
    "            needs_go_on = True\n",
    "print('你破产了, 游戏结束!')"
   ],
   "metadata": {
    "collapsed": false,
    "pycharm": {
     "name": "#%%\n"
    }
   }
  },
  {
   "cell_type": "code",
   "execution_count": 2,
   "outputs": [
    {
     "name": "stdout",
     "output_type": "stream",
     "text": [
      "玩家摇出了9点\n",
      "玩家摇出了7点\n",
      "庄家胜\n"
     ]
    }
   ],
   "source": [
    "# Craps赌博游戏\n",
    "from random import randint\n",
    "p0 = 0 #初始点数\n",
    "num = 0 # 制筛子次数\n",
    "while 1:\n",
    "    num += 1\n",
    "    p = randint(1, 6) + randint(1, 6)\n",
    "    print('玩家摇出了%d点' % p)\n",
    "    if num == 1:\n",
    "        if p==7 or p==11:\n",
    "            print('闲家胜')\n",
    "            break\n",
    "        elif p==2 or p==3 or p==12:\n",
    "            print('庄家胜')\n",
    "            break\n",
    "    else:\n",
    "        if p==7:\n",
    "            print('庄家胜')\n",
    "            break\n",
    "        elif p==7:\n",
    "            print('闲家胜')\n",
    "            break\n",
    "    p = p0\n"
   ],
   "metadata": {
    "collapsed": false,
    "pycharm": {
     "name": "#%%\n"
    }
   }
  },
  {
   "cell_type": "code",
   "execution_count": 11,
   "outputs": [
    {
     "name": "stdout",
     "output_type": "stream",
     "text": [
      "1 1 2 3 5 8 13 21 34 55 89 144 233 377 610 987 1597 2584 4181 6765 "
     ]
    }
   ],
   "source": [
    "# 斐波拉契数列\n",
    "num = 20\n",
    "a = 1\n",
    "b = 1\n",
    "print(a,b,end=' ')\n",
    "for i in range(1,num-1):\n",
    "    print(a+b,end=' ')\n",
    "    temp = a\n",
    "    a = b\n",
    "    b = temp+b"
   ],
   "metadata": {
    "collapsed": false,
    "pycharm": {
     "name": "#%%\n"
    }
   }
  },
  {
   "cell_type": "code",
   "execution_count": 13,
   "outputs": [
    {
     "name": "stdout",
     "output_type": "stream",
     "text": [
      "6\n",
      "28\n",
      "496\n"
     ]
    }
   ],
   "source": [
    "# 找出10000以内的完美数\n",
    "for i in range(2,1000):\n",
    "    s = 0\n",
    "    for j in range(1,i):\n",
    "        if i%j == 0:\n",
    "           s += j\n",
    "    if s == i:\n",
    "        print(i)\n"
   ],
   "metadata": {
    "collapsed": false,
    "pycharm": {
     "name": "#%%\n"
    }
   }
  },
  {
   "cell_type": "code",
   "execution_count": 26,
   "outputs": [
    {
     "name": "stdout",
     "output_type": "stream",
     "text": [
      "2 3 5 7 11 13 17 19 23 29 31 37 41 43 47 53 59 61 67 71 73 79 83 89 97 101 103 107 109 113 127 131 137 139 149 151 157 163 167 173 179 181 191 193 197 199 211 223 227 229 233 239 241 251 257 263 269 271 277 281 283 293 307 311 313 317 331 337 347 349 353 359 367 373 379 383 389 397 401 409 419 421 431 433 439 443 449 457 461 463 467 479 487 491 499 503 509 521 523 541 547 557 563 569 571 577 587 593 599 601 607 613 617 619 631 641 643 647 653 659 661 673 677 683 691 701 709 719 727 733 739 743 751 757 761 769 773 787 797 809 811 821 823 827 829 839 853 857 859 863 877 881 883 887 907 911 919 929 937 941 947 953 967 971 977 983 991 997 "
     ]
    }
   ],
   "source": [
    "# 输出100以内所有的素数\n",
    "from math import sqrt\n",
    "for i in range(2,1000):\n",
    "    index = 0\n",
    "    for j in range(2,round(sqrt(i))+1):\n",
    "        if i % j == 0:\n",
    "            index = 1\n",
    "            break\n",
    "    if index == 0:\n",
    "        print(i,end=' ')"
   ],
   "metadata": {
    "collapsed": false,
    "pycharm": {
     "name": "#%%\n"
    }
   }
  },
  {
   "cell_type": "code",
   "execution_count": 21,
   "outputs": [
    {
     "name": "stdout",
     "output_type": "stream",
     "text": [
      "32\n"
     ]
    }
   ],
   "source": [
    "print(round(sqrt(i)))"
   ],
   "metadata": {
    "collapsed": false,
    "pycharm": {
     "name": "#%%\n"
    }
   }
  }
 ],
 "metadata": {
  "kernelspec": {
   "display_name": "Python 3",
   "language": "python",
   "name": "python3"
  },
  "language_info": {
   "codemirror_mode": {
    "name": "ipython",
    "version": 2
   },
   "file_extension": ".py",
   "mimetype": "text/x-python",
   "name": "python",
   "nbconvert_exporter": "python",
   "pygments_lexer": "ipython2",
   "version": "2.7.6"
  }
 },
 "nbformat": 4,
 "nbformat_minor": 0
}