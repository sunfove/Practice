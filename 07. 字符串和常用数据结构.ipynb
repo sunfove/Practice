{
 "cells": [
  {
   "cell_type": "code",
   "execution_count": 2,
   "outputs": [
    {
     "name": "stdout",
     "output_type": "stream",
     "text": [
      "hello world hello world \n",
      "hello world\n"
     ]
    }
   ],
   "source": [
    "s1 = 'hello world'\n",
    "s2 = \"hello world\"\n",
    "s3 = \"\"\"\n",
    "hello world\n",
    "\"\"\"\n",
    "print(s1,s2,s3,end=\"\")"
   ],
   "metadata": {
    "collapsed": false,
    "pycharm": {
     "name": "#%%\n"
    }
   }
  },
  {
   "cell_type": "code",
   "execution_count": 19,
   "outputs": [
    {
     "name": "stdout",
     "output_type": "stream",
     "text": [
      "'hello world' \\nhello world\\n"
     ]
    }
   ],
   "source": [
    "s1 = '\\'hello world\\''\n",
    "s2 = '\\\\nhello world\\\\n'\n",
    "print(s1,s2,end='')"
   ],
   "metadata": {
    "collapsed": false,
    "pycharm": {
     "name": "#%%\n"
    }
   }
  },
  {
   "cell_type": "code",
   "execution_count": 24,
   "outputs": [
    {
     "name": "stdout",
     "output_type": "stream",
     "text": [
      "ab\n",
      "骆\n"
     ]
    }
   ],
   "source": [
    "s1 = '\\141\\142'\n",
    "print(s1)\n",
    "s2 = '\\u9a86'\n",
    "print(s2)"
   ],
   "metadata": {
    "collapsed": false,
    "pycharm": {
     "name": "#%%\n"
    }
   }
  },
  {
   "cell_type": "code",
   "execution_count": 26,
   "outputs": [
    {
     "name": "stdout",
     "output_type": "stream",
     "text": [
      "\\'hello world\\'\n"
     ]
    }
   ],
   "source": [
    "# 字符串前面加r可以组织转义\n",
    "s1 = r'\\'hello world\\''\n",
    "print(s1)"
   ],
   "metadata": {
    "collapsed": false,
    "pycharm": {
     "name": "#%%\n"
    }
   }
  },
  {
   "cell_type": "code",
   "execution_count": 34,
   "outputs": [
    {
     "name": "stdout",
     "output_type": "stream",
     "text": [
      "world hello True\n",
      "ld\n"
     ]
    }
   ],
   "source": [
    "s1 = 'hello'\n",
    "s2 = 'world'\n",
    "print(s2+' '+s1,end=' ')\n",
    "print('ll' in s1)\n",
    "print(s2[3:5])"
   ],
   "metadata": {
    "collapsed": false,
    "pycharm": {
     "name": "#%%\n"
    }
   }
  },
  {
   "cell_type": "code",
   "execution_count": 54,
   "outputs": [
    {
     "name": "stdout",
     "output_type": "stream",
     "text": [
      "c,d\n",
      "a\n",
      "ce36\n",
      "acd135\n",
      "654321ed,cba\n",
      "45\n",
      "12\n",
      "Abc,de123456\n",
      "Abc,De123456\n",
      "ABC,DE123456\n",
      "0\n"
     ]
    }
   ],
   "source": [
    "str2 = 'abc,de123456'\n",
    "print(str2[2:5])\n",
    "print(str2[0])\n",
    "print(str2[2::3])\n",
    "print(str2[::2])    # 从0开始，间隔为2\n",
    "print(str2[::-1])   # 字符反转\n",
    "print(str2[-3:-1])\n",
    "print(len(str2))\n",
    "print(str2.capitalize())\n",
    "print(str2.title())\n",
    "print(str2.upper())\n",
    "print(str2.find('a'))"
   ],
   "metadata": {
    "collapsed": false,
    "pycharm": {
     "name": "#%%\n"
    }
   }
  }
 ],
 "metadata": {
  "kernelspec": {
   "display_name": "Python 3",
   "language": "python",
   "name": "python3"
  },
  "language_info": {
   "codemirror_mode": {
    "name": "ipython",
    "version": 2
   },
   "file_extension": ".py",
   "mimetype": "text/x-python",
   "name": "python",
   "nbconvert_exporter": "python",
   "pygments_lexer": "ipython2",
   "version": "2.7.6"
  }
 },
 "nbformat": 4,
 "nbformat_minor": 0
}