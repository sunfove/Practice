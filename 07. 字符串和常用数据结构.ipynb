{
 "cells": [
  {
   "cell_type": "code",
   "execution_count": 2,
   "outputs": [
    {
     "name": "stdout",
     "output_type": "stream",
     "text": [
      "hello world hello world \n",
      "hello world\n"
     ]
    }
   ],
   "source": [
    "s1 = 'hello world'\n",
    "s2 = \"hello world\"\n",
    "s3 = \"\"\"\n",
    "hello world\n",
    "\"\"\"\n",
    "print(s1,s2,s3,end=\"\")"
   ],
   "metadata": {
    "collapsed": false,
    "pycharm": {
     "name": "#%%\n"
    }
   }
  },
  {
   "cell_type": "code",
   "execution_count": 19,
   "outputs": [
    {
     "name": "stdout",
     "output_type": "stream",
     "text": [
      "'hello world' \\nhello world\\n"
     ]
    }
   ],
   "source": [
    "s1 = '\\'hello world\\''\n",
    "s2 = '\\\\nhello world\\\\n'\n",
    "print(s1,s2,end='')"
   ],
   "metadata": {
    "collapsed": false,
    "pycharm": {
     "name": "#%%\n"
    }
   }
  },
  {
   "cell_type": "code",
   "execution_count": 24,
   "outputs": [
    {
     "name": "stdout",
     "output_type": "stream",
     "text": [
      "ab\n",
      "骆\n"
     ]
    }
   ],
   "source": [
    "s1 = '\\141\\142'\n",
    "print(s1)\n",
    "s2 = '\\u9a86'\n",
    "print(s2)"
   ],
   "metadata": {
    "collapsed": false,
    "pycharm": {
     "name": "#%%\n"
    }
   }
  },
  {
   "cell_type": "code",
   "execution_count": 26,
   "outputs": [
    {
     "name": "stdout",
     "output_type": "stream",
     "text": [
      "\\'hello world\\'\n"
     ]
    }
   ],
   "source": [
    "# 字符串前面加r可以组织转义\n",
    "s1 = r'\\'hello world\\''\n",
    "print(s1)"
   ],
   "metadata": {
    "collapsed": false,
    "pycharm": {
     "name": "#%%\n"
    }
   }
  },
  {
   "cell_type": "code",
   "execution_count": 34,
   "outputs": [
    {
     "name": "stdout",
     "output_type": "stream",
     "text": [
      "world hello True\n",
      "ld\n"
     ]
    }
   ],
   "source": [
    "s1 = 'hello'\n",
    "s2 = 'world'\n",
    "print(s2+' '+s1,end=' ')\n",
    "print('ll' in s1)\n",
    "print(s2[3:5])"
   ],
   "metadata": {
    "collapsed": false,
    "pycharm": {
     "name": "#%%\n"
    }
   }
  },
  {
   "cell_type": "code",
   "execution_count": 74,
   "outputs": [
    {
     "name": "stdout",
     "output_type": "stream",
     "text": [
      "cde\n",
      "a\n",
      "c14\n",
      "ace246\n",
      "654321edcba\n",
      "45\n",
      "11\n",
      "Abcde123456\n",
      "Abcde123456\n",
      "ABCDE123456\n",
      "0\n",
      "-1\n",
      "True\n",
      "False\n",
      "*******************abcde123456********************\n",
      "000000000000000000000000000000000000000abcde123456\n",
      "False\n",
      "False\n",
      "True\n"
     ]
    }
   ],
   "source": [
    "str2 = 'abcde123456'\n",
    "print(str2[2:5])\n",
    "print(str2[0])\n",
    "print(str2[2::3])\n",
    "print(str2[::2])    # 从0开始，间隔为2\n",
    "print(str2[::-1])   # 字符反转\n",
    "print(str2[-3:-1])\n",
    "print(len(str2))\n",
    "print(str2.capitalize())\n",
    "print(str2.title())\n",
    "print(str2.upper())\n",
    "print(str2.find('a'))\n",
    "print(str2.find('dd'))\n",
    "print(str2.startswith('a'))\n",
    "print(str2.endswith('536'))\n",
    "print(str2.center(50,'*'))\n",
    "print(str2.rjust(50, '0'))\n",
    "print(str2.isdigit())\n",
    "print(str2.isalpha())\n",
    "print(str2.isalnum())"
   ],
   "metadata": {
    "collapsed": false,
    "pycharm": {
     "name": "#%%\n"
    }
   }
  },
  {
   "cell_type": "code",
   "execution_count": 76,
   "outputs": [
    {
     "name": "stdout",
     "output_type": "stream",
     "text": [
      "  abs\n",
      "abs\n"
     ]
    }
   ],
   "source": [
    "str3 = '  abs'\n",
    "print(str3)\n",
    "print(str3.strip())"
   ],
   "metadata": {
    "collapsed": false,
    "pycharm": {
     "name": "#%%\n"
    }
   }
  },
  {
   "cell_type": "code",
   "execution_count": 82,
   "outputs": [
    {
     "name": "stdout",
     "output_type": "stream",
     "text": [
      "5 + 100 = 105\n",
      "5*100=500\n",
      "5/100=0.05\n"
     ]
    }
   ],
   "source": [
    "a,b = 5,100\n",
    "print('%d + %d = %d' % (a,b,a+b))\n",
    "print('{0}*{1}={2}'.format(a,b,a*b))\n",
    "print(f'{a}/{b}={a/b}')"
   ],
   "metadata": {
    "collapsed": false,
    "pycharm": {
     "name": "#%%\n"
    }
   }
  },
  {
   "cell_type": "code",
   "execution_count": 1,
   "outputs": [
    {
     "name": "stdout",
     "output_type": "stream",
     "text": [
      "[2, 3, 33, 4, 5, 7]\n",
      "[2, 400, 33, 4, 5, 7, 200, 100, 200, 2, 5]\n",
      "[400, 33, 4, 5, 7, 200, 100, 200, 2]\n"
     ]
    }
   ],
   "source": [
    "# list\n",
    "list1 = [2,3,33,4,5,7]\n",
    "print(list1)\n",
    "list1.append(200)\n",
    "list1.insert(1,400)\n",
    "list1.extend([100,200])\n",
    "list1 += [2,5]\n",
    "if 3 in list1:\n",
    "    list1.remove(3)\n",
    "print(list1)\n",
    "# 从指定的位置删除元素\n",
    "list1.pop(0)\n",
    "list1.pop(len(list1) - 1)\n",
    "# list1.clear()\n",
    "print(list1)"
   ],
   "metadata": {
    "collapsed": false,
    "pycharm": {
     "name": "#%%\n"
    }
   }
  },
  {
   "cell_type": "code",
   "execution_count": 8,
   "outputs": [
    {
     "name": "stdout",
     "output_type": "stream",
     "text": [
      "['apple', 'strawberry', 'waxberry']\n",
      "['grape', 'apple', 'strawberry', 'waxberry', 'pitaya', 'pear', 'mango']\n",
      "['pitaya', 'pear']\n",
      "['mango', 'pear', 'pitaya', 'waxberry', 'strawberry', 'apple', 'grape']\n"
     ]
    }
   ],
   "source": [
    "fruits = ['grape','apple','strawberry','waxberry']\n",
    "fruits += ['pitaya','pear','mango']\n",
    "# 列表切片\n",
    "fruits2 = fruits[1:4]\n",
    "print(fruits2)\n",
    "fruits3 = fruits[:]\n",
    "print(fruits3)\n",
    "fruits4 = fruits[-3:-1]\n",
    "print(fruits4)\n",
    "print(fruits[::-1])"
   ],
   "metadata": {
    "collapsed": false,
    "pycharm": {
     "name": "#%%\n"
    }
   }
  },
  {
   "cell_type": "code",
   "execution_count": 13,
   "outputs": [
    {
     "name": "stdout",
     "output_type": "stream",
     "text": [
      "['apple', 'blueberry', 'internationalization', 'orange', 'zoo']\n",
      "['zoo', 'orange', 'internationalization', 'blueberry', 'apple']\n",
      "['zoo', 'orange', 'internationalization', 'blueberry', 'apple']\n"
     ]
    }
   ],
   "source": [
    "list1 = ['orange','apple','zoo','internationalization','blueberry']\n",
    "list2 = sorted(list1)\n",
    "list3 = sorted(list1,reverse=True)\n",
    "list4 = sorted(list1,key=len)\n",
    "print(list2)\n",
    "print(list3)\n",
    "list1.sort(reverse=True)\n",
    "print(list1)"
   ],
   "metadata": {
    "collapsed": false,
    "pycharm": {
     "name": "#%%\n"
    }
   }
  },
  {
   "cell_type": "code",
   "execution_count": 20,
   "outputs": [
    {
     "name": "stdout",
     "output_type": "stream",
     "text": [
      "[1, 2, 3, 4, 5, 6, 7, 8, 9]\n",
      "[1, 4, 9, 16, 25, 36, 49, 64, 81]\n",
      "184\n",
      "1\n",
      "4\n",
      "9\n",
      "16\n",
      "25\n",
      "36\n",
      "49\n",
      "64\n",
      "81\n"
     ]
    }
   ],
   "source": [
    "import sys\n",
    "\n",
    "# 生成式和生成器\n",
    "\n",
    "f = [x for x in range(1,10)]\n",
    "print(f)\n",
    "f = [x**2 for x in range(1,10)]\n",
    "print(f)\n",
    "print(sys.getsizeof(f))\n",
    "for val in f:\n",
    "    print(val)"
   ],
   "metadata": {
    "collapsed": false,
    "pycharm": {
     "name": "#%%\n"
    }
   }
  },
  {
   "cell_type": "code",
   "execution_count": 1,
   "outputs": [
    {
     "name": "stdout",
     "output_type": "stream",
     "text": [
      "1\n",
      "1\n",
      "2\n",
      "3\n",
      "5\n",
      "8\n",
      "13\n",
      "21\n",
      "34\n",
      "55\n",
      "89\n",
      "144\n",
      "233\n",
      "377\n",
      "610\n",
      "987\n",
      "1597\n",
      "2584\n",
      "4181\n",
      "6765\n"
     ]
    }
   ],
   "source": [
    "def fib(n):\n",
    "    a,b = 0,1\n",
    "    for _ in range(n):\n",
    "        a,b = b, a+b\n",
    "        yield a\n",
    "\n",
    "def main():\n",
    "    for val in fib(20):\n",
    "        print(val)\n",
    "\n",
    "if __name__ == '__main__':\n",
    "    main()"
   ],
   "metadata": {
    "collapsed": false,
    "pycharm": {
     "name": "#%%\n"
    }
   }
  },
  {
   "cell_type": "code",
   "execution_count": 17,
   "outputs": [
    {
     "name": "stdout",
     "output_type": "stream",
     "text": [
      "1\n",
      "2\n",
      "3 4 "
     ]
    },
    {
     "ename": "StopIteration",
     "evalue": "",
     "output_type": "error",
     "traceback": [
      "\u001B[1;31m---------------------------------------------------------------------------\u001B[0m",
      "\u001B[1;31mStopIteration\u001B[0m                             Traceback (most recent call last)",
      "Input \u001B[1;32mIn [17]\u001B[0m, in \u001B[0;36m<cell line: 10>\u001B[1;34m()\u001B[0m\n\u001B[0;32m      7\u001B[0m \u001B[38;5;28;01mfor\u001B[39;00m x \u001B[38;5;129;01min\u001B[39;00m it:\n\u001B[0;32m      8\u001B[0m     \u001B[38;5;28mprint\u001B[39m(x,end\u001B[38;5;241m=\u001B[39m\u001B[38;5;124m'\u001B[39m\u001B[38;5;124m \u001B[39m\u001B[38;5;124m'\u001B[39m)\n\u001B[1;32m---> 10\u001B[0m \u001B[38;5;28mprint\u001B[39m(\u001B[38;5;28;43mnext\u001B[39;49m\u001B[43m(\u001B[49m\u001B[43mit\u001B[49m\u001B[43m)\u001B[49m)\n",
      "\u001B[1;31mStopIteration\u001B[0m: "
     ]
    }
   ],
   "source": [
    "# 迭代器\n",
    "list = [1,2,3,4]\n",
    "it = iter(list)\n",
    "print(next(it))\n",
    "print(next(it))\n",
    "\n",
    "for x in it:\n",
    "    print(x,end=' ')\n",
    "\n",
    "print(next(it))\n"
   ],
   "metadata": {
    "collapsed": false,
    "pycharm": {
     "name": "#%%\n"
    }
   }
  },
  {
   "cell_type": "code",
   "execution_count": 13,
   "outputs": [
    {
     "name": "stdout",
     "output_type": "stream",
     "text": [
      "2  \n",
      "4  \n"
     ]
    }
   ],
   "source": [
    "list = [1,2,3,4]\n",
    "it2 = iter(list)\n",
    "for i in it2:\n",
    "    print(next(it2),' ')"
   ],
   "metadata": {
    "collapsed": false,
    "pycharm": {
     "name": "#%%\n"
    }
   }
  },
  {
   "cell_type": "code",
   "execution_count": 26,
   "outputs": [
    {
     "name": "stdout",
     "output_type": "stream",
     "text": [
      "<class '__main__.MyNumbers'>\n"
     ]
    }
   ],
   "source": [
    "class MyNumbers:\n",
    "  def __iter__(self):\n",
    "    self.a = 1\n",
    "    return self\n",
    "\n",
    "  def __next__(self):\n",
    "    x = self.a\n",
    "    self.a += 1\n",
    "    return x\n",
    "\n",
    "myclass = MyNumbers()\n",
    "# myiter = iter(myclass)\n",
    "#\n",
    "# print(next(myiter))\n",
    "# print(next(myiter))\n",
    "# print(next(myiter))\n",
    "# print(next(myiter))\n",
    "print(type (myclass))"
   ],
   "metadata": {
    "collapsed": false,
    "pycharm": {
     "name": "#%%\n"
    }
   }
  },
  {
   "cell_type": "code",
   "execution_count": 31,
   "outputs": [
    {
     "name": "stdout",
     "output_type": "stream",
     "text": [
      "1--4--9--16--25--36--49--"
     ]
    }
   ],
   "source": [
    "class Number():\n",
    "    def __init__(self,min,max):\n",
    "        self.min = min\n",
    "        self.max = max\n",
    "    def __iter__(self):\n",
    "        return self\n",
    "    def __next__(self):\n",
    "        num = self.min\n",
    "        if self.min <= self.max:\n",
    "            self.min += 1\n",
    "            return num ** 2\n",
    "        else:\n",
    "            raise StopIteration\n",
    "\n",
    "for i in Number(1,7):\n",
    "    print(i,end='--')"
   ],
   "metadata": {
    "collapsed": false,
    "pycharm": {
     "name": "#%%\n"
    }
   }
  },
  {
   "cell_type": "code",
   "execution_count": 1,
   "outputs": [
    {
     "name": "stdout",
     "output_type": "stream",
     "text": [
      "1--4--9--16--25--36--49--"
     ]
    }
   ],
   "source": [
    "class Number():\n",
    "\tdef __init__(self,min,max):\n",
    "\t\tself.min = min\n",
    "\t\tself.max = max\n",
    "\tdef __iter__(self):\n",
    "\t\treturn self\n",
    "\tdef __next__(self):\n",
    "\t\tnum = self.min\n",
    "\t\tif self.min <= self.max:\n",
    "\t\t\tself.min += 1\n",
    "\t\t\treturn num ** 2\n",
    "\t\telse:\n",
    "\t\t\traise StopIteration\n",
    "\n",
    "\n",
    "for i in Number(1,7):\n",
    "\tprint(i,end='--')"
   ],
   "metadata": {
    "collapsed": false,
    "pycharm": {
     "name": "#%%\n"
    }
   }
  },
  {
   "cell_type": "code",
   "execution_count": 22,
   "outputs": [
    {
     "name": "stdout",
     "output_type": "stream",
     "text": [
      "('sun', 38, True, 'Hz')\n",
      "(38,)\n",
      "Hz\n",
      "sun\n",
      "38\n",
      "True\n",
      "Hz\n",
      "<class 'tuple'> ('王大锤', 20, True, '云南昆明')\n",
      "<class 'list'> ['王大锤', 20, True, '云南昆明']\n",
      "<class 'tuple'> ('王大锤', 20, True, '云南昆明')\n"
     ]
    }
   ],
   "source": [
    "# 使用元祖\n",
    "t = ('sun',38,True,'Hz')\n",
    "print(t)\n",
    "print(t[1:2])\n",
    "print(t[3])\n",
    "for member in t:\n",
    "    print(member)\n",
    "\n",
    "# 变量t重新引用了新的元组原来的元组将被垃圾回收\n",
    "t = ('王大锤', 20, True, '云南昆明')\n",
    "print(type(t),t)\n",
    "person = list(t)\n",
    "print(type(person),person)\n",
    "t2 = tuple(person)\n",
    "print(type(t2),t2)"
   ],
   "metadata": {
    "collapsed": false,
    "pycharm": {
     "name": "#%%\n"
    }
   }
  },
  {
   "cell_type": "code",
   "execution_count": 28,
   "outputs": [
    {
     "name": "stdout",
     "output_type": "stream",
     "text": [
      "52.3 ns ± 14.5 ns per loop (mean ± std. dev. of 7 runs, 10,000,000 loops each)\n",
      "8.7 ns ± 0.505 ns per loop (mean ± std. dev. of 7 runs, 100,000,000 loops each)\n"
     ]
    }
   ],
   "source": [
    "from timeit import timeit\n",
    "# list耗时\n",
    "%timeit [1,2,3,4,5]\n",
    "# tuple耗时\n",
    "%timeit (1,2,3,4,5)"
   ],
   "metadata": {
    "collapsed": false,
    "pycharm": {
     "name": "#%%\n"
    }
   }
  },
  {
   "cell_type": "code",
   "execution_count": 52,
   "outputs": [
    {
     "name": "stdout",
     "output_type": "stream",
     "text": [
      "{1, 2, 3, 4}\n",
      "length =  4\n",
      "{1, 2, 3, 4, 5, 6, 7, 8, 9} {1, 2, 3}\n",
      "{3, 5, 6, 9, 10, 12, 15, 18, 20, 21, 24, 25, 27, 30, 33, 35, 36, 39, 40, 42, 45, 48, 50, 51, 54, 55, 57, 60, 63, 65, 66, 69, 70, 72, 75, 78, 80, 81, 84, 85, 87, 90, 93, 95, 96, 99}\n",
      "{3}\n",
      "{1, 2, 3, 4, 5}\n",
      "{1, 2, 3, 6, 7, 8, 9, 11, 12}\n",
      "{1, 2, 3}\n",
      "1\n"
     ]
    }
   ],
   "source": [
    "# 布尔运算\n",
    "set1 = {1,2,3,4,3,2}\n",
    "print(set1)\n",
    "print('length = ',len(set1))\n",
    "set2 = set(range(1,10))\n",
    "set3 = set((1,2,3,2,3,1))\n",
    "print(set2,set3)\n",
    "set4 = {num for num in range(1,100) if num%3==0 or num%5==0}\n",
    "print(set4)\n",
    "set5 =set4.intersection(set3)\n",
    "print(set5)\n",
    "set1.add(4)\n",
    "set1.add(5)\n",
    "print(set1)\n",
    "set2.update([11,12])\n",
    "set2.discard(5)\n",
    "if 4 in set2:\n",
    "    set2.remove(4)\n",
    "print(set2)\n",
    "print(set3)\n",
    "print(set3.pop())"
   ],
   "metadata": {
    "collapsed": false,
    "pycharm": {
     "name": "#%%\n"
    }
   }
  },
  {
   "cell_type": "code",
   "execution_count": 1,
   "outputs": [
    {
     "ename": "NameError",
     "evalue": "name 'set1' is not defined",
     "output_type": "error",
     "traceback": [
      "\u001B[1;31m---------------------------------------------------------------------------\u001B[0m",
      "\u001B[1;31mNameError\u001B[0m                                 Traceback (most recent call last)",
      "Input \u001B[1;32mIn [1]\u001B[0m, in \u001B[0;36m<cell line: 2>\u001B[1;34m()\u001B[0m\n\u001B[0;32m      1\u001B[0m \u001B[38;5;66;03m# print(set1,set2)\u001B[39;00m\n\u001B[1;32m----> 2\u001B[0m \u001B[38;5;28mprint\u001B[39m(\u001B[38;5;124m'\u001B[39m\u001B[38;5;124mset1=\u001B[39m\u001B[38;5;124m'\u001B[39m,\u001B[43mset1\u001B[49m)\n\u001B[0;32m      3\u001B[0m \u001B[38;5;28mprint\u001B[39m(\u001B[38;5;124m'\u001B[39m\u001B[38;5;124mset2=\u001B[39m\u001B[38;5;124m'\u001B[39m,set2)\n\u001B[0;32m      4\u001B[0m \u001B[38;5;28mprint\u001B[39m(\u001B[38;5;124m'\u001B[39m\u001B[38;5;124mset3=\u001B[39m\u001B[38;5;124m'\u001B[39m,set3)\n",
      "\u001B[1;31mNameError\u001B[0m: name 'set1' is not defined"
     ]
    }
   ],
   "source": [
    "# print(set1,set2)\n",
    "print('set1=',set1)\n",
    "print('set2=',set2)\n",
    "print('set3=',set3)\n",
    "\n",
    "print(set1 & set2)\n",
    "# print(set1.intersection(set2))\n",
    "print(set1 | set2)\n",
    "# print(set1.union(set2))\n",
    "print(set1 - set2)\n",
    "# print(set1.difference(set2))\n",
    "print(set1 ^ set2)\n",
    "# print(set1.symmetric_difference(set2))\n",
    "# 判断子集和超集\n",
    "print(set2 <= set1)\n",
    "# print(set2.issubset(set1))\n",
    "print(set3 <= set1)\n",
    "# print(set3.issubset(set1))\n",
    "print(set1 >= set2)\n",
    "# print(set1.issuperset(set2))\n",
    "print(set1 >= set3)\n",
    "# print(set1.issuperset(set3))"
   ],
   "metadata": {
    "collapsed": false,
    "pycharm": {
     "name": "#%%\n"
    }
   }
  },
  {
   "cell_type": "code",
   "execution_count": 43,
   "outputs": [
    {
     "name": "stdout",
     "output_type": "stream",
     "text": [
      "{'A': 100, 'B': 60, 'C': 68}\n",
      "{'one': 1, 'two': 2, 'three': 3} {'a': '1', 'b': '2', 'c': '3'} {1: 1, 2: 4, 3: 9, 4: 16, 5: 25, 6: 36, 7: 49, 8: 64, 9: 81}\n",
      "100\n",
      "49\n",
      "A:100\n",
      "B:60\n",
      "C:68\n",
      "{'A': 100, 'B': 120, 'C': 68}\n",
      "{'A': 100, 'B': 120, 'C': 68, 'D': 23}\n",
      "{'A': 100, 'B': 120, 'C': 68, 'D': 23, 'E': 32, 'F': 'ewr'}\n",
      "None\n",
      "None 324\n",
      "('F', 'ewr')\n",
      "100\n",
      "{}\n"
     ]
    }
   ],
   "source": [
    "# 字典\n",
    "scores = {'A':100, 'B':60, 'C':68}\n",
    "print(scores)\n",
    "items1 = dict(one=1, two=2, three=3)\n",
    "items2 = dict(zip(['a','b','c'],'123'))\n",
    "items3 = {num:num**2 for num in range(1,10)}\n",
    "print(items1,items2,items3)\n",
    "print(scores['A'])\n",
    "print(items3[7])\n",
    "for key in scores:\n",
    "    print(f'{key}:{scores[key]}')\n",
    "\n",
    "scores['B'] = 120\n",
    "print(scores)\n",
    "scores['D'] = 23\n",
    "print(scores)\n",
    "scores.update(E=32,F='ewr')\n",
    "print(scores)\n",
    "print(scores.get('G'))\n",
    "print(scores.get('G'),324)\n",
    "\n",
    "print(scores.popitem())\n",
    "print(scores.pop('A'))\n",
    "\n",
    "scores.clear()\n",
    "print(scores)\n"
   ],
   "metadata": {
    "collapsed": false,
    "pycharm": {
     "name": "#%%\n"
    }
   }
  }
 ],
 "metadata": {
  "kernelspec": {
   "display_name": "Python 3",
   "language": "python",
   "name": "python3"
  },
  "language_info": {
   "codemirror_mode": {
    "name": "ipython",
    "version": 2
   },
   "file_extension": ".py",
   "mimetype": "text/x-python",
   "name": "python",
   "nbconvert_exporter": "python",
   "pygments_lexer": "ipython2",
   "version": "2.7.6"
  }
 },
 "nbformat": 4,
 "nbformat_minor": 0
}