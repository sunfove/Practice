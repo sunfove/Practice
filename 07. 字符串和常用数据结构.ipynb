{
 "cells": [
  {
   "cell_type": "code",
   "execution_count": 2,
   "outputs": [
    {
     "name": "stdout",
     "output_type": "stream",
     "text": [
      "hello world hello world \n",
      "hello world\n"
     ]
    }
   ],
   "source": [
    "s1 = 'hello world'\n",
    "s2 = \"hello world\"\n",
    "s3 = \"\"\"\n",
    "hello world\n",
    "\"\"\"\n",
    "print(s1,s2,s3,end=\"\")"
   ],
   "metadata": {
    "collapsed": false,
    "pycharm": {
     "name": "#%%\n"
    }
   }
  },
  {
   "cell_type": "code",
   "execution_count": 19,
   "outputs": [
    {
     "name": "stdout",
     "output_type": "stream",
     "text": [
      "'hello world' \\nhello world\\n"
     ]
    }
   ],
   "source": [
    "s1 = '\\'hello world\\''\n",
    "s2 = '\\\\nhello world\\\\n'\n",
    "print(s1,s2,end='')"
   ],
   "metadata": {
    "collapsed": false,
    "pycharm": {
     "name": "#%%\n"
    }
   }
  },
  {
   "cell_type": "code",
   "execution_count": 24,
   "outputs": [
    {
     "name": "stdout",
     "output_type": "stream",
     "text": [
      "ab\n",
      "骆\n"
     ]
    }
   ],
   "source": [
    "s1 = '\\141\\142'\n",
    "print(s1)\n",
    "s2 = '\\u9a86'\n",
    "print(s2)"
   ],
   "metadata": {
    "collapsed": false,
    "pycharm": {
     "name": "#%%\n"
    }
   }
  },
  {
   "cell_type": "code",
   "execution_count": 26,
   "outputs": [
    {
     "name": "stdout",
     "output_type": "stream",
     "text": [
      "\\'hello world\\'\n"
     ]
    }
   ],
   "source": [
    "# 字符串前面加r可以组织转义\n",
    "s1 = r'\\'hello world\\''\n",
    "print(s1)"
   ],
   "metadata": {
    "collapsed": false,
    "pycharm": {
     "name": "#%%\n"
    }
   }
  },
  {
   "cell_type": "code",
   "execution_count": 34,
   "outputs": [
    {
     "name": "stdout",
     "output_type": "stream",
     "text": [
      "world hello True\n",
      "ld\n"
     ]
    }
   ],
   "source": [
    "s1 = 'hello'\n",
    "s2 = 'world'\n",
    "print(s2+' '+s1,end=' ')\n",
    "print('ll' in s1)\n",
    "print(s2[3:5])"
   ],
   "metadata": {
    "collapsed": false,
    "pycharm": {
     "name": "#%%\n"
    }
   }
  },
  {
   "cell_type": "code",
   "execution_count": 74,
   "outputs": [
    {
     "name": "stdout",
     "output_type": "stream",
     "text": [
      "cde\n",
      "a\n",
      "c14\n",
      "ace246\n",
      "654321edcba\n",
      "45\n",
      "11\n",
      "Abcde123456\n",
      "Abcde123456\n",
      "ABCDE123456\n",
      "0\n",
      "-1\n",
      "True\n",
      "False\n",
      "*******************abcde123456********************\n",
      "000000000000000000000000000000000000000abcde123456\n",
      "False\n",
      "False\n",
      "True\n"
     ]
    }
   ],
   "source": [
    "str2 = 'abcde123456'\n",
    "print(str2[2:5])\n",
    "print(str2[0])\n",
    "print(str2[2::3])\n",
    "print(str2[::2])    # 从0开始，间隔为2\n",
    "print(str2[::-1])   # 字符反转\n",
    "print(str2[-3:-1])\n",
    "print(len(str2))\n",
    "print(str2.capitalize())\n",
    "print(str2.title())\n",
    "print(str2.upper())\n",
    "print(str2.find('a'))\n",
    "print(str2.find('dd'))\n",
    "print(str2.startswith('a'))\n",
    "print(str2.endswith('536'))\n",
    "print(str2.center(50,'*'))\n",
    "print(str2.rjust(50, '0'))\n",
    "print(str2.isdigit())\n",
    "print(str2.isalpha())\n",
    "print(str2.isalnum())"
   ],
   "metadata": {
    "collapsed": false,
    "pycharm": {
     "name": "#%%\n"
    }
   }
  },
  {
   "cell_type": "code",
   "execution_count": 76,
   "outputs": [
    {
     "name": "stdout",
     "output_type": "stream",
     "text": [
      "  abs\n",
      "abs\n"
     ]
    }
   ],
   "source": [
    "str3 = '  abs'\n",
    "print(str3)\n",
    "print(str3.strip())"
   ],
   "metadata": {
    "collapsed": false,
    "pycharm": {
     "name": "#%%\n"
    }
   }
  },
  {
   "cell_type": "code",
   "execution_count": 82,
   "outputs": [
    {
     "name": "stdout",
     "output_type": "stream",
     "text": [
      "5 + 100 = 105\n",
      "5*100=500\n",
      "5/100=0.05\n"
     ]
    }
   ],
   "source": [
    "a,b = 5,100\n",
    "print('%d + %d = %d' % (a,b,a+b))\n",
    "print('{0}*{1}={2}'.format(a,b,a*b))\n",
    "print(f'{a}/{b}={a/b}')"
   ],
   "metadata": {
    "collapsed": false,
    "pycharm": {
     "name": "#%%\n"
    }
   }
  },
  {
   "cell_type": "code",
   "execution_count": 96,
   "outputs": [
    {
     "name": "stdout",
     "output_type": "stream",
     "text": [
      "[2, 3, 33, 4, 5, 7]\n",
      "[2, 400, 33, 4, 5, 7, 200, 100, 200, 2, 5]\n",
      "[400, 33, 4, 5, 7, 200, 100, 200, 2]\n"
     ]
    }
   ],
   "source": [
    "# list\n",
    "list1 = [2,3,33,4,5,7]\n",
    "print(list1)\n",
    "list1.append(200)\n",
    "list1.insert(1,400)\n",
    "list1.extend([100,200])\n",
    "list1 += [2,5]\n",
    "if 3 in list1:\n",
    "    list1.remove(3)\n",
    "print(list1)\n",
    "# 从指定的位置删除元素\n",
    "list1.pop(0)\n",
    "list1.pop(len(list1) - 1)\n",
    "# list1.clear()\n",
    "print(list1)"
   ],
   "metadata": {
    "collapsed": false,
    "pycharm": {
     "name": "#%%\n"
    }
   }
  }
 ],
 "metadata": {
  "kernelspec": {
   "display_name": "Python 3",
   "language": "python",
   "name": "python3"
  },
  "language_info": {
   "codemirror_mode": {
    "name": "ipython",
    "version": 2
   },
   "file_extension": ".py",
   "mimetype": "text/x-python",
   "name": "python",
   "nbconvert_exporter": "python",
   "pygments_lexer": "ipython2",
   "version": "2.7.6"
  }
 },
 "nbformat": 4,
 "nbformat_minor": 0
}