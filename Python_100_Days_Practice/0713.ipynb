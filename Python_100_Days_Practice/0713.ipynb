{
    "cells": [
        {
            "cell_type": "code",
            "execution_count": 1,
            "source": [
                "class Student(object):\r\n",
                "\r\n",
                "    # __init__是一个特殊方法用于在创建对象时进行初始化操作\r\n",
                "    # 通过这个方法我们可以为学生对象绑定name和age两个属性\r\n",
                "    def __init__(self, name, age):\r\n",
                "        self.name = name\r\n",
                "        self.age = age\r\n",
                "\r\n",
                "    def study(self, course_name):\r\n",
                "        print('%s正在学习%s.' % (self.name, course_name))\r\n",
                "\r\n",
                "    # PEP 8要求标识符的名字用全小写多个单词用下划线连接\r\n",
                "    # 但是部分程序员和公司更倾向于使用驼峰命名法(驼峰标识)\r\n",
                "    def watch_movie(self):\r\n",
                "        if self.age < 18:\r\n",
                "            print('%s只能观看《熊出没》.' % self.name)\r\n",
                "        else:\r\n",
                "            print('%s正在观看岛国爱情大电影.' % self.name)"
            ],
            "outputs": [],
            "metadata": {}
        },
        {
            "cell_type": "code",
            "execution_count": null,
            "source": [
                "def main():\r\n",
                "    # 创建学生对象并指定姓名和年龄\r\n",
                "    stu1 = Student('骆昊', 38)\r\n",
                "    # 给对象发study消息\r\n",
                "    stu1.study('Python程序设计')\r\n",
                "    # 给对象发watch_av消息\r\n",
                "    stu1.watch_movie()\r\n",
                "    stu2 = Student('王大锤', 15)\r\n",
                "    stu2.study('思想品德')\r\n",
                "    stu2.watch_movie()\r\n",
                "\r\n",
                "\r\n",
                "if __name__ == '__main__':\r\n",
                "    main()"
            ],
            "outputs": [],
            "metadata": {}
        }
    ],
    "metadata": {
        "orig_nbformat": 4,
        "language_info": {
            "name": "python"
        }
    },
    "nbformat": 4,
    "nbformat_minor": 2
}