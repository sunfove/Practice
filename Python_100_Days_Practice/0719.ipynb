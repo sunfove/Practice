{
    "cells": [
        {
            "cell_type": "code",
            "execution_count": null,
            "source": [
                "# 本地与github连接\r\n",
                "# $ ssh-keygen -t rsa -C \"sunfove@qq.com\"\r\n"
            ],
            "outputs": [],
            "metadata": {}
        },
        {
            "cell_type": "code",
            "execution_count": null,
            "source": [],
            "outputs": [],
            "metadata": {}
        }
    ],
    "metadata": {
        "orig_nbformat": 4,
        "language_info": {
            "name": "python"
        }
    },
    "nbformat": 4,
    "nbformat_minor": 2
}