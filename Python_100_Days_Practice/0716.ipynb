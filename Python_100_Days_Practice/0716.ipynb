{
    "cells": [
        {
            "cell_type": "code",
            "execution_count": 4,
            "source": [
                "a = list(range(1,10))\r\n",
                "print(a,a.__len__())"
            ],
            "outputs": [
                {
                    "output_type": "stream",
                    "name": "stdout",
                    "text": [
                        "[1, 2, 3, 4, 5, 6, 7, 8, 9] 9\n"
                    ]
                }
            ],
            "metadata": {}
        },
        {
            "cell_type": "code",
            "execution_count": 7,
            "source": [
                "class Student(object):\r\n",
                "    def __init__(self, name, age):\r\n",
                "        self.name = name\r\n",
                "        self.age = age\r\n",
                "    \r\n",
                "    def study(self, course_name):\r\n",
                "        print('%s正在学习%s.'%(self.name, course_name))\r\n",
                "\r\n",
                "\r\n",
                "def main():\r\n",
                "    stu1 = Student('A',12)\r\n",
                "    stu1.study('AAA')\r\n",
                "\r\n",
                "main()"
            ],
            "outputs": [
                {
                    "output_type": "stream",
                    "name": "stdout",
                    "text": [
                        "A正在学习AAA.\n"
                    ]
                }
            ],
            "metadata": {}
        }
    ],
    "metadata": {
        "orig_nbformat": 4,
        "language_info": {
            "name": "python"
        }
    },
    "nbformat": 4,
    "nbformat_minor": 2
}