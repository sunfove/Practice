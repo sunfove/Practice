{
 "cells": [
  {
   "cell_type": "code",
   "execution_count": 4,
   "metadata": {},
   "outputs": [
    {
     "name": "stdout",
     "output_type": "stream",
     "text": [
      "153\n",
      "370\n",
      "371\n",
      "407\n"
     ]
    }
   ],
   "source": [
    "for i in range(100,1000):\r\n",
    "    hun = i//100\r\n",
    "    # ten = (i - hun*100)//10\r\n",
    "    ten = i // 10 % 10\r\n",
    "    one = i % 10\r\n",
    "    if hun**3 + ten**3 + one**3 == i:\r\n",
    "        print(i)\r\n"
   ]
  },
  {
   "cell_type": "code",
   "execution_count": 13,
   "metadata": {},
   "outputs": [
    {
     "name": "stdout",
     "output_type": "stream",
     "text": [
      "54321\n"
     ]
    }
   ],
   "source": [
    "num = 12345\r\n",
    "num_new = 0\r\n",
    "while num!=0:\r\n",
    "    num_new = 10*(num_new) + num % 10\r\n",
    "    num //= 10\r\n",
    "print(num_new)"
   ]
  },
  {
   "cell_type": "code",
   "execution_count": 17,
   "metadata": {},
   "outputs": [
    {
     "name": "stdout",
     "output_type": "stream",
     "text": [
      "59871\n"
     ]
    }
   ],
   "source": [
    "num = 17895\r\n",
    "new = ''\r\n",
    "for i in range(len(str(num))-1,-1,-1):\r\n",
    "    new = new + str(num)[i]\r\n",
    "print(int(new))"
   ]
  },
  {
   "cell_type": "code",
   "execution_count": 8,
   "metadata": {},
   "outputs": [
    {
     "name": "stdout",
     "output_type": "stream",
     "text": [
      "12\n"
     ]
    },
    {
     "data": {
      "text/plain": [
       "True"
      ]
     },
     "execution_count": 8,
     "metadata": {},
     "output_type": "execute_result"
    }
   ],
   "source": [
    "int('13')\r\n",
    "a = '1'\r\n",
    "b = '2'\r\n",
    "print(a+b)\r\n",
    "2!=1"
   ]
  }
 ],
 "metadata": {
  "interpreter": {
   "hash": "7433d36806bf237d5b6f3aad715b4b8079e87208f22800f5e1e55c9f1f9ca455"
  },
  "kernelspec": {
   "display_name": "Python 3.9.5 64-bit ('FDTD_Python': conda)",
   "name": "python3"
  },
  "language_info": {
   "codemirror_mode": {
    "name": "ipython",
    "version": 3
   },
   "file_extension": ".py",
   "mimetype": "text/x-python",
   "name": "python",
   "nbconvert_exporter": "python",
   "pygments_lexer": "ipython3",
   "version": "3.9.5"
  },
  "orig_nbformat": 4
 },
 "nbformat": 4,
 "nbformat_minor": 2
}